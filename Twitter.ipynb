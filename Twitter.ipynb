{
 "cells": [
  {
   "cell_type": "markdown",
   "metadata": {},
   "source": [
    "#  Tower Builder"
   ]
  },
  {
   "cell_type": "code",
   "execution_count": null,
   "metadata": {},
   "outputs": [
    {
     "name": "stdout",
     "output_type": "stream",
     "text": [
      "\n",
      "Menu:\n",
      "1. Rectangular Tower\n",
      "2. Triangular Tower\n",
      "3. Exit\n",
      "Enter your choice: 2\n",
      "Enter the height of the triangular tower: 9\n",
      "Enter the width of the triangular tower: 12\n",
      "\n",
      "Menu:\n",
      "\n",
      "1. Calculate the perimeter of the triangle\n",
      "2. Print the triangle\n",
      "Enter your option: 1\n",
      "The perimeter of the triangle is: 33.63330765278394\n",
      "\n",
      "Menu:\n",
      "1. Rectangular Tower\n",
      "2. Triangular Tower\n",
      "3. Exit\n"
     ]
    }
   ],
   "source": [
    "import math\n",
    "\n",
    "def rectangular_tower():\n",
    "    height = int(input(\"Enter the height of the rectangular tower: \"))\n",
    "    width = int(input(\"Enter the width of the rectangular tower: \"))\n",
    "\n",
    "    if height == width or abs(height - width) > 5:\n",
    "        area = height * width\n",
    "        print(\"The area of the rectangular tower is:\", area)\n",
    "    else:\n",
    "        perimeter = 2 * (height + width)\n",
    "        print(\"The perimeter of the rectangular tower is:\", perimeter)\n",
    "\n",
    "def triangular_tower():\n",
    "        height = int(input(\"Enter the height of the triangular tower: \"))\n",
    "        width = int(input(\"Enter the width of the triangular tower: \"))\n",
    "            \n",
    "        print(\"\\nMenu:\")\n",
    "        print(\"\\n1. Calculate the perimeter of the triangle\")\n",
    "        print(\"2. Print the triangle\")\n",
    "        option = input(\"Enter your option: \")\n",
    "\n",
    "        if option == '1':\n",
    "            perimeter = 2 * math.sqrt((width / 2) ** 2 + height ** 2) + width\n",
    "            print(\"The perimeter of the triangle is:\", perimeter)\n",
    "        elif option == '2':\n",
    "            print_triangle(width, height)\n",
    "        \n",
    "def print_triangle(width, height):\n",
    "    if width % 2 == 0 or width > 2 * height:\n",
    "        print(\"Cannot print the triangle.\")\n",
    "    else:\n",
    "        stars = 1\n",
    "        spaces = int((width - stars) / 2)\n",
    "        print(\" \" * spaces + \"*\")\n",
    "\n",
    "        stars += 2\n",
    "        times = int(((height-2)/(((width-1)/2)-1)))\n",
    "\n",
    "        for remainder in range(1, int((height - 2) - times * (((width - 1) / 2) - 1))+1):\n",
    "            spaces = int((width - stars) / 2)\n",
    "            print(\" \" * spaces + \"*\" * stars)\n",
    "\n",
    "        while stars < width - 1:\n",
    "            for j in range(1, times + 1):\n",
    "                spaces = int((width - stars) / 2)\n",
    "                print(\" \" * spaces + \"*\" * stars)\n",
    "            stars += 2\n",
    "            \n",
    "        print(\"*\" * width)\n",
    "    \n",
    "while True:\n",
    "    print(\"\\nMenu:\")\n",
    "    print(\"1. Rectangular Tower\")\n",
    "    print(\"2. Triangular Tower\")\n",
    "    print(\"3. Exit\")\n",
    "    choice = input(\"Enter your choice: \")\n",
    "\n",
    "    if choice == '1':\n",
    "        rectangular_tower()\n",
    "    elif choice == '2':\n",
    "        triangular_tower()\n",
    "    elif choice == '3':\n",
    "        print(\"Exiting the program. Goodbye!\")\n",
    "        break\n",
    "    else:\n",
    "        print(\"Invalid choice. Please try again.\")"
   ]
  },
  {
   "cell_type": "code",
   "execution_count": null,
   "metadata": {},
   "outputs": [],
   "source": []
  }
 ],
 "metadata": {
  "kernelspec": {
   "display_name": "Python 3",
   "language": "python",
   "name": "python3"
  },
  "language_info": {
   "codemirror_mode": {
    "name": "ipython",
    "version": 3
   },
   "file_extension": ".py",
   "mimetype": "text/x-python",
   "name": "python",
   "nbconvert_exporter": "python",
   "pygments_lexer": "ipython3",
   "version": "3.7.3"
  }
 },
 "nbformat": 4,
 "nbformat_minor": 2
}
